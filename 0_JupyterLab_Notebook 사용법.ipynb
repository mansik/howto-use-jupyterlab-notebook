{
 "cells": [
  {
   "cell_type": "markdown",
   "id": "f2ca33f3-fb78-44cf-a057-8b3dc74c45bd",
   "metadata": {},
   "source": [
    "# JupyterLab & Jupyter notebook 사용법\n",
    "> JupyterLab을 사용할 것.(Jupyter notebook 보다 기능 풍부)"
   ]
  },
  {
   "cell_type": "markdown",
   "id": "83516a8e",
   "metadata": {
    "tags": []
   },
   "source": [
    "## 사용법"
   ]
  },
  {
   "cell_type": "markdown",
   "id": "939d92e4",
   "metadata": {},
   "source": [
    "### 키보드 입력모드\n",
    "- Edit Mode : 셀에 입력 가능, 초록색 셀 테두리\n",
    "- Command Mode : 키보드 명령 가능, 파란색 셀 테두리"
   ]
  },
  {
   "cell_type": "markdown",
   "id": "76cabaa0",
   "metadata": {},
   "source": [
    "---\n",
    "## 단축키\n",
    "---"
   ]
  },
  {
   "cell_type": "markdown",
   "id": "b80b1f9b",
   "metadata": {},
   "source": [
    "### Command Mode 단축키"
   ]
  },
  {
   "cell_type": "markdown",
   "id": "eac9ad3b",
   "metadata": {},
   "source": [
    "> - jupyter Notebook 키보드 단축키 : H"
   ]
  },
  {
   "cell_type": "markdown",
   "id": "c3a36467",
   "metadata": {},
   "source": [
    "#### 셀 타입(Command Mode 단축키)\n",
    "\n",
    "- Markdown : m\n",
    "- Code : y  (좌측에 In[]로 표시됨)"
   ]
  },
  {
   "cell_type": "markdown",
   "id": "2003d8f5",
   "metadata": {},
   "source": [
    "#### 셀 다루기(Command Mode 단축키)\n",
    "\n",
    "- 모드 변경\n",
    "  - Edit Mode : Enter\n",
    "  - Command Mode : Esc, Ctrl + m \n",
    "    \n",
    "- 셀 추가\n",
    "  - 현재 셀 위에 추가: a\n",
    "  - 현재 셀 아래 추가: b\n",
    "    \n",
    "- 셀 삭제\n",
    "  - 현재 셀 삭제: dd\n",
    "  - 셀 삭제 취소: z\n",
    "\n",
    "- 셀 복사\n",
    "  - 현재 셀 복사: c  \n",
    "\n",
    "- 셀 붙여넣기\n",
    "  - 현재 셀 위에 붙여넣기: shift + v\n",
    "  - 현재 셀 아래 붙여넣기: v\n",
    "    \n",
    "- 셀 선택 : k, j, up, down"
   ]
  },
  {
   "cell_type": "markdown",
   "id": "155474a0",
   "metadata": {},
   "source": [
    "#### 코드 실행하기\n",
    "\n",
    "- 현재 셀을 실행하고 아래 셀 선택: Shift + Enter\n",
    "- 현재 셀을 실행하기: Ctrl + Enter\n",
    "- 현재 셀을 실행하고 아래 셀 추가: Alter + Enter    "
   ]
  },
  {
   "cell_type": "markdown",
   "id": "ae4b8f35",
   "metadata": {
    "jp-MarkdownHeadingCollapsed": true,
    "tags": []
   },
   "source": [
    "#### Heading(Command Mode 단축키)\n",
    "> `#`이 숫자의 갯수 만큼 입력됨\n",
    "```\n",
    "# change cell to heading 1\n",
    "## change cell to heading 2\n",
    "### change cell to heading 3\n",
    "#### change cell to heading 4\n",
    "##### change cell to heading 5\n",
    "###### change cell to heading 6\n",
    "```"
   ]
  },
  {
   "cell_type": "markdown",
   "id": "1782ee26",
   "metadata": {
    "tags": []
   },
   "source": [
    "### Edit Mode 단축키\n",
    "\n",
    "- *Esc, Ctrl-M : command mode로 전환*  \n",
    "\n",
    "- *Tab : code completion or indent*\n",
    "- *Shift + Tab : tooltip*\n",
    "  \n",
    "- *Down : 커서를 현재 줄의 처음으로 이동, move cursor down*\n",
    "- *Up : 커서를 현재 줄의 끝으로 이동, move cursor up*\n",
    "  \n",
    "- Ctrl + Z : undo\n",
    "- Ctrl + D : delete whole line\n",
    "\n",
    "- Ctrl + Left : go one word left\n",
    "- Ctrl + Right : go one word right\n",
    "\n",
    "- Ctrl + Shift + Minus : split cell at cursor(s)\n",
    "- Ctrl + S : Save and Checkpoint\n",
    "\n"
   ]
  },
  {
   "cell_type": "markdown",
   "id": "fb4185e2-d4a1-4786-83c6-a4f108c5b5e0",
   "metadata": {},
   "source": [
    "## 도움말 보는 법\n",
    "\n",
    "- ?         -> Introduction and overview of IPython's features (this screen).\n",
    "- object?   -> Details about 'object'.(?word or word?) \n",
    "- object??  -> More detailed, verbose information about 'object'.(?word or word?)\n",
    "- %quickref -> Quick reference of all IPython specific syntax and magics.\n",
    "- help      -> Access Python's own help system.(help(print))\n",
    "\n",
    "> If you are in terminal IPython you can quit this screen by pressing `q`.\n",
    "\n",
    "\n",
    "- Magic commands: type %magic for information on the magic subsystem.\n",
    "  * %lsmagic : Magic command의 전체 명령어 list\n",
    "  * %magic : Magic function 의 도움말\n",
    "  * %ls"
   ]
  }
 ],
 "metadata": {
  "kernelspec": {
   "display_name": "Python 3 (ipykernel)",
   "language": "python",
   "name": "python3"
  },
  "language_info": {
   "codemirror_mode": {
    "name": "ipython",
    "version": 3
   },
   "file_extension": ".py",
   "mimetype": "text/x-python",
   "name": "python",
   "nbconvert_exporter": "python",
   "pygments_lexer": "ipython3",
   "version": "3.9.13"
  }
 },
 "nbformat": 4,
 "nbformat_minor": 5
}
